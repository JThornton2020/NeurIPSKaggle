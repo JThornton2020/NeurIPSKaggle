{
 "cells": [
  {
   "cell_type": "code",
   "execution_count": 2,
   "id": "6b547d32-92fe-4d0e-aef2-c84e4f95b0c1",
   "metadata": {},
   "outputs": [],
   "source": [
    "# usual imports\n",
    "import pandas as pd\n",
    "import numpy as np\n",
    "\n",
    "import kaggle"
   ]
  },
  {
   "cell_type": "code",
   "execution_count": 6,
   "id": "801b3b81-9821-4d0c-8bfb-0053e4385e24",
   "metadata": {},
   "outputs": [],
   "source": [
    "kaggle.api.authenticate()"
   ]
  },
  {
   "cell_type": "code",
   "execution_count": null,
   "id": "099bd811-b468-4070-b3ef-b4f1a6ca5858",
   "metadata": {},
   "outputs": [],
   "source": [
    "kaggle.api.competition_download_files(\"ariel-data-challenge-2024\", path = \"D:\\Kaggle\")"
   ]
  },
  {
   "cell_type": "code",
   "execution_count": null,
   "id": "18c60f7c-74a9-4517-acb3-86ce1ace9811",
   "metadata": {},
   "outputs": [],
   "source": []
  }
 ],
 "metadata": {
  "kernelspec": {
   "display_name": "Python 3 (ipykernel)",
   "language": "python",
   "name": "python3"
  },
  "language_info": {
   "codemirror_mode": {
    "name": "ipython",
    "version": 3
   },
   "file_extension": ".py",
   "mimetype": "text/x-python",
   "name": "python",
   "nbconvert_exporter": "python",
   "pygments_lexer": "ipython3",
   "version": "3.11.9"
  }
 },
 "nbformat": 4,
 "nbformat_minor": 5
}
